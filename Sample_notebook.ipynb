{
 "cells": [
  {
   "cell_type": "code",
   "execution_count": 1,
   "id": "451580f6",
   "metadata": {},
   "outputs": [
    {
     "name": "stdout",
     "output_type": "stream",
     "text": [
      "total 24\n",
      "drwxrwxr-x 4 ec2-user ec2-user 4096 Oct 15 18:00 .\n",
      "drwxr-xr-x 5 ec2-user ec2-user 4096 Oct 15 17:58 ..\n",
      "drwxrwxr-x 8 ec2-user ec2-user 4096 Oct 15 18:00 .git\n",
      "drwxrwxr-x 2 ec2-user ec2-user 4096 Oct 15 18:00 .ipynb_checkpoints\n",
      "-rw-rw-r-- 1 ec2-user ec2-user   59 Oct 15 18:00 README.md\n",
      "-rw-rw-r-- 1 ec2-user ec2-user   72 Oct 15 18:00 Untitled.ipynb\n"
     ]
    }
   ],
   "source": [
    "!ls -al"
   ]
  },
  {
   "cell_type": "code",
   "execution_count": null,
   "id": "89278206",
   "metadata": {},
   "outputs": [],
   "source": []
  }
 ],
 "metadata": {
  "kernelspec": {
   "display_name": "conda_python3",
   "language": "python",
   "name": "conda_python3"
  },
  "language_info": {
   "codemirror_mode": {
    "name": "ipython",
    "version": 3
   },
   "file_extension": ".py",
   "mimetype": "text/x-python",
   "name": "python",
   "nbconvert_exporter": "python",
   "pygments_lexer": "ipython3",
   "version": "3.6.13"
  }
 },
 "nbformat": 4,
 "nbformat_minor": 5
}
